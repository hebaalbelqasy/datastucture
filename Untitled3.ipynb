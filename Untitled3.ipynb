{
  "nbformat": 4,
  "nbformat_minor": 0,
  "metadata": {
    "colab": {
      "provenance": [],
      "authorship_tag": "ABX9TyMCYlqdx0KU0eSwk6jDhnse",
      "include_colab_link": true
    },
    "kernelspec": {
      "name": "python3",
      "display_name": "Python 3"
    },
    "language_info": {
      "name": "python"
    }
  },
  "cells": [
    {
      "cell_type": "markdown",
      "metadata": {
        "id": "view-in-github",
        "colab_type": "text"
      },
      "source": [
        "<a href=\"https://colab.research.google.com/github/hebaalbelqasy/datastucture/blob/main/Untitled3.ipynb\" target=\"_parent\"><img src=\"https://colab.research.google.com/assets/colab-badge.svg\" alt=\"Open In Colab\"/></a>"
      ]
    },
    {
      "cell_type": "code",
      "execution_count": null,
      "metadata": {
        "id": "SPIMCsHQr6hZ"
      },
      "outputs": [],
      "source": [
        "class student:\n",
        "  def__init__(self):\n",
        "    self.name=input(\"enter student name:\")\n",
        "    self.subject=input(\"enter subject name:\")\n",
        "    self.grade=int(input(\"enter student grade:\"))\n",
        "    def_dict_(self):\n",
        "      d={\"Arabic\":90,\"English\":80,\"math\":70,\"science\":95}\n",
        "      print(d.key())\n",
        "      print(d.value())\n",
        "\n",
        "      a=80\n",
        "      b=0\n",
        "      try:\n",
        "        print(a/b)\n",
        "        except ZeroDivisionError:\n",
        "          print(\"An error occured,Zero division error\")\n",
        "  class subject:\n",
        "    def add(self):\n",
        "      self.name=input(\"enter subject name:\")\n",
        "      self.grade=int(input(\"enter grade of student:\"))\n",
        "\n"
      ]
    },
    {
      "cell_type": "code",
      "source": [
        "c=7\n",
        "f=0\n",
        "try:\n",
        "  print(c/f)\n",
        "  except ZeroDivisionErro:\n",
        "    print(\"An error occured,Zero division error\")\n",
        "\n",
        ""
      ],
      "metadata": {
        "id": "rv1VhIsuwap1"
      },
      "execution_count": null,
      "outputs": []
    },
    {
      "cell_type": "code",
      "source": [
        "f=open(\"student.text\",'r')\n",
        "print(f.read())\n"
      ],
      "metadata": {
        "id": "pR6ZCu2fxMBl"
      },
      "execution_count": null,
      "outputs": []
    },
    {
      "cell_type": "code",
      "source": [
        "f=open(\"student.text\",'w')\n",
        "f.write(\"\\n studentname,\\n subject,\\n grades\")\n",
        "f.close()\n",
        "try:\n",
        "  print(f.read())\n",
        "  except(\"An error occured, value error\")\n",
        ""
      ],
      "metadata": {
        "id": "WRZbl-ChxneQ"
      },
      "execution_count": null,
      "outputs": []
    },
    {
      "cell_type": "code",
      "source": [
        "def view_student(self):\n",
        "  d={\"Arabic\":90,\"English\":80,\"math\":70,\"science\":95}\n",
        "  i=0\n",
        "  for i in range(95):\n",
        "    if i==90:\n",
        "      print(\"The student sucsseded in Arabic\")\n",
        "    if i==80:\n",
        "      print(\"The student sucsseded in English\")\n",
        "    if i==70:\n",
        "      print(\"The student sucsseded in math\")\n",
        "   if  i==95:\n",
        "    print(\"The student sucsseded in science\")\n",
        "    i+=1\n",
        "    break\n",
        "\n",
        ""
      ],
      "metadata": {
        "id": "zq7ksBdpydDe"
      },
      "execution_count": null,
      "outputs": []
    },
    {
      "cell_type": "code",
      "source": [
        "def display(self):\n",
        "  d={\"Arabic\":90,\"English\":80,\"math\":70,\"science\":95}\n",
        "  print(sum(d.value()))\n",
        "  average=sum/4\n",
        "  print(average)\n"
      ],
      "metadata": {
        "id": "OCVW7osiz8BA"
      },
      "execution_count": null,
      "outputs": []
    }
  ]
}